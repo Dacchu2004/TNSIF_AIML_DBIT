{
 "cells": [
  {
   "cell_type": "code",
   "execution_count": 8,
   "id": "a006547b-e2ff-426b-8791-f6de5fcaf6b8",
   "metadata": {},
   "outputs": [
    {
     "name": "stdin",
     "output_type": "stream",
     "text": [
      "Enter the ele: 1\n",
      "Enter the ele: 2\n",
      "Enter the ele: 3\n",
      "Enter the ele: 4\n",
      "Enter the ele: 5\n",
      "Enter the ele: 6\n",
      "Enter the ele: 7\n",
      "Enter the ele: 8\n",
      "Enter the ele: 9\n",
      "Enter the ele: 10\n"
     ]
    },
    {
     "name": "stdout",
     "output_type": "stream",
     "text": [
      "list: [2, 4, 6, 8, 10]\n"
     ]
    }
   ],
   "source": [
    "ul=[]\n",
    "ul1=[]\n",
    "for i in range(10):\n",
    "    ele = int(input(\"Enter the ele:\"))\n",
    "    ul.append(ele)\n",
    "S\n",
    "for i in range(len(ul)):\n",
    "    if ul[i] %2 == 0:\n",
    "        ul1.append(ul[i])\n",
    "\n",
    "print (\"list:\",ul1)"
   ]
  },
  {
   "cell_type": "code",
   "execution_count": null,
   "id": "cc86f44c-aefe-4601-bea3-945ba68b1fb8",
   "metadata": {},
   "outputs": [],
   "source": []
  }
 ],
 "metadata": {
  "kernelspec": {
   "display_name": "Python 3 (ipykernel)",
   "language": "python",
   "name": "python3"
  },
  "language_info": {
   "codemirror_mode": {
    "name": "ipython",
    "version": 3
   },
   "file_extension": ".py",
   "mimetype": "text/x-python",
   "name": "python",
   "nbconvert_exporter": "python",
   "pygments_lexer": "ipython3",
   "version": "3.11.9"
  }
 },
 "nbformat": 4,
 "nbformat_minor": 5
}
