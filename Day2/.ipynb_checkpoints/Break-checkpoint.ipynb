{
 "cells": [
  {
   "cell_type": "code",
   "execution_count": 13,
   "id": "67ee70ec-6d91-4caa-bf1a-10542dabe952",
   "metadata": {},
   "outputs": [
    {
     "name": "stdin",
     "output_type": "stream",
     "text": [
      "Enter random number: 300\n"
     ]
    },
    {
     "name": "stdout",
     "output_type": "stream",
     "text": [
      "sum: 300\n"
     ]
    }
   ],
   "source": [
    "s = 0\n",
    "while(s<300): \n",
    "    num = int(input(\"Enter random number:\"))\n",
    "    s += num\n",
    "    if s > 300:\n",
    "        print(\"Sum reached 300\")\n",
    "        break\n",
    "    print (\"sum:\",s)"
   ]
  },
  {
   "cell_type": "code",
   "execution_count": null,
   "id": "bdce8827-c4b3-4631-ad3b-8a49cbf2fdc6",
   "metadata": {},
   "outputs": [],
   "source": []
  }
 ],
 "metadata": {
  "kernelspec": {
   "display_name": "Python 3 (ipykernel)",
   "language": "python",
   "name": "python3"
  },
  "language_info": {
   "codemirror_mode": {
    "name": "ipython",
    "version": 3
   },
   "file_extension": ".py",
   "mimetype": "text/x-python",
   "name": "python",
   "nbconvert_exporter": "python",
   "pygments_lexer": "ipython3",
   "version": "3.11.9"
  }
 },
 "nbformat": 4,
 "nbformat_minor": 5
}
