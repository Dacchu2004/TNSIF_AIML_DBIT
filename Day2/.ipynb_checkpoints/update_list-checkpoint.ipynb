{
 "cells": [
  {
   "cell_type": "code",
   "execution_count": 7,
   "id": "f64dc0b8-1943-4797-8b5b-97f77634ce8e",
   "metadata": {},
   "outputs": [
    {
     "name": "stdin",
     "output_type": "stream",
     "text": [
      "Enter the ele: ok\n",
      "Enter the ele: fine\n",
      "Enter the ele: done\n",
      "Enter the ele: thanks\n",
      "Enter the ele: bye\n",
      "Enter index value to insert word: 3\n",
      "Enter word to insert at index 3: fun\n"
     ]
    },
    {
     "name": "stdout",
     "output_type": "stream",
     "text": [
      "list: ['ok', 'fine', 'done', 'fun', 'thanks', 'bye']\n"
     ]
    }
   ],
   "source": [
    "ul=[]\n",
    "for i in range(5):\n",
    "    ele = input(\"Enter the ele:\")\n",
    "    ul.append(ele)\n",
    "\n",
    "index =int(input(\"Enter index value to insert word:\"))\n",
    "word = input(f\"Enter word to insert at index {index}:\")\n",
    "\n",
    "if 0 <= index <= len(ul):\n",
    "        ul.insert(index, word)\n",
    "else:\n",
    "    print(\"Invalid index\")\n",
    "    ul.append(word)\n",
    "\n",
    "print(\"list:\",ul)\n",
    "\n"
   ]
  },
  {
   "cell_type": "code",
   "execution_count": null,
   "id": "edc12627-8234-4e07-b495-23bafdf464dc",
   "metadata": {},
   "outputs": [],
   "source": []
  }
 ],
 "metadata": {
  "kernelspec": {
   "display_name": "Python 3 (ipykernel)",
   "language": "python",
   "name": "python3"
  },
  "language_info": {
   "codemirror_mode": {
    "name": "ipython",
    "version": 3
   },
   "file_extension": ".py",
   "mimetype": "text/x-python",
   "name": "python",
   "nbconvert_exporter": "python",
   "pygments_lexer": "ipython3",
   "version": "3.11.9"
  }
 },
 "nbformat": 4,
 "nbformat_minor": 5
}
