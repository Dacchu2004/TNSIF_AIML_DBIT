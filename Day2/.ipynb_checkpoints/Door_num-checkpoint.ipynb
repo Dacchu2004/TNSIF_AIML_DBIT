{
 "cells": [
  {
   "cell_type": "code",
   "execution_count": 3,
   "id": "c7468bd3-b862-4b8b-a2c6-1783fb9704b2",
   "metadata": {},
   "outputs": [
    {
     "name": "stdin",
     "output_type": "stream",
     "text": [
      "enter your address  1a2b3c\n"
     ]
    },
    {
     "name": "stdout",
     "output_type": "stream",
     "text": [
      "numbers are\n",
      "123"
     ]
    }
   ],
   "source": [
    "address = input(\"enter your address \")\n",
    "print(\"numbers are\")\n",
    "for ch in address:\n",
    "    if ch >= '0' and ch <= '9':\n",
    "        print(ch, end='')"
   ]
  },
  {
   "cell_type": "code",
   "execution_count": null,
   "id": "ff1b45d0-2d66-40ef-90bc-007617c9db96",
   "metadata": {},
   "outputs": [],
   "source": []
  }
 ],
 "metadata": {
  "kernelspec": {
   "display_name": "Python 3 (ipykernel)",
   "language": "python",
   "name": "python3"
  },
  "language_info": {
   "codemirror_mode": {
    "name": "ipython",
    "version": 3
   },
   "file_extension": ".py",
   "mimetype": "text/x-python",
   "name": "python",
   "nbconvert_exporter": "python",
   "pygments_lexer": "ipython3",
   "version": "3.11.9"
  }
 },
 "nbformat": 4,
 "nbformat_minor": 5
}
