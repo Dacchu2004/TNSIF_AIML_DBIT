{
 "cells": [
  {
   "cell_type": "code",
   "execution_count": 5,
   "id": "afeef626-6d03-4004-b245-735897c9166b",
   "metadata": {},
   "outputs": [
    {
     "name": "stdin",
     "output_type": "stream",
     "text": [
      "Enter 5 words: ['ok','done','fine','lap','phone']\n",
      "Enter your name: dharsh\n"
     ]
    },
    {
     "name": "stdout",
     "output_type": "stream",
     "text": [
      "Replaced: ['ok', 'done', 'dharsh', 'lap', 'dharsh']\n"
     ]
    }
   ],
   "source": [
    "ul = eval(input(\"Enter 5 words:\"))\n",
    "name = input(\"Enter your name:\")\n",
    "ul[2] = name\n",
    "ul[4] = name\n",
    "print(\"Replaced:\",ul)"
   ]
  },
  {
   "cell_type": "code",
   "execution_count": null,
   "id": "a4cb0a45-b1d5-41ea-92ea-2972b3eaab05",
   "metadata": {},
   "outputs": [],
   "source": []
  }
 ],
 "metadata": {
  "kernelspec": {
   "display_name": "Python 3 (ipykernel)",
   "language": "python",
   "name": "python3"
  },
  "language_info": {
   "codemirror_mode": {
    "name": "ipython",
    "version": 3
   },
   "file_extension": ".py",
   "mimetype": "text/x-python",
   "name": "python",
   "nbconvert_exporter": "python",
   "pygments_lexer": "ipython3",
   "version": "3.11.9"
  }
 },
 "nbformat": 4,
 "nbformat_minor": 5
}
