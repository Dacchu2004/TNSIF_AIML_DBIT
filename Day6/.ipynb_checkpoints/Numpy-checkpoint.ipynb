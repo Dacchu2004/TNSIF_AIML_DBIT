{
 "cells": [
  {
   "cell_type": "code",
   "execution_count": 1,
   "id": "3e1d7788-136d-44c7-9ac2-b1ab84b2e127",
   "metadata": {},
   "outputs": [
    {
     "name": "stdout",
     "output_type": "stream",
     "text": [
      "[ 2  4  6  8 10]\n",
      "[ 2  4  6  8 10]\n",
      "[[ 0  1  2  3]\n",
      " [ 4  5  6  7]\n",
      " [ 8  9 10 11]]\n",
      "[[19 22]\n",
      " [43 50]]\n",
      "Mean: 0.0027552394372627235, Std: 1.0553329905097182\n"
     ]
    }
   ],
   "source": [
    "import numpy as np\n",
    "\n",
    "# Creating arrays\n",
    "arr1 = np.array([1, 2, 3, 4, 5])  # 1D array\n",
    "arr2 = np.array([[1, 2, 3], [4, 5, 6]])  # 2D array\n",
    "\n",
    "# Array operations (vectorization)\n",
    "print(arr1 * 2)       # Multiply each element by 2\n",
    "print(arr1 + arr1)    # Add arrays element-wise\n",
    "\n",
    "# Reshaping\n",
    "arr3 = np.arange(12).reshape(3, 4)  # Create 3x4 array from 0-11\n",
    "print(arr3)\n",
    "\n",
    "# Matrix operations\n",
    "matrix1 = np.array([[1, 2], [3, 4]])\n",
    "matrix2 = np.array([[5, 6], [7, 8]])\n",
    "print(np.dot(matrix1, matrix2))  # Matrix multiplication\n",
    "\n",
    "# Statistical operations\n",
    "data = np.random.normal(0, 1, 1000)  # 1000 random numbers from normal distribution\n",
    "print(f\"Mean: {data.mean()}, Std: {data.std()}\")\n"
   ]
  },
  {
   "cell_type": "code",
   "execution_count": null,
   "id": "7d6ebf95-4869-423c-81fc-aba27ece69bf",
   "metadata": {},
   "outputs": [],
   "source": []
  }
 ],
 "metadata": {
  "kernelspec": {
   "display_name": "Python 3 (ipykernel)",
   "language": "python",
   "name": "python3"
  },
  "language_info": {
   "codemirror_mode": {
    "name": "ipython",
    "version": 3
   },
   "file_extension": ".py",
   "mimetype": "text/x-python",
   "name": "python",
   "nbconvert_exporter": "python",
   "pygments_lexer": "ipython3",
   "version": "3.11.9"
  }
 },
 "nbformat": 4,
 "nbformat_minor": 5
}
