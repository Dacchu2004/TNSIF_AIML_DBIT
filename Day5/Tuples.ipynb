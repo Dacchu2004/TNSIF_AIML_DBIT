{
 "cells": [
  {
   "cell_type": "code",
   "execution_count": 1,
   "id": "6ec22d1c-80ff-489b-89e0-ed20de343899",
   "metadata": {},
   "outputs": [
    {
     "name": "stdout",
     "output_type": "stream",
     "text": [
      "('hello', 1, 1997)\n"
     ]
    }
   ],
   "source": [
    "#tuples are ordered and immutable(non alterable)\n",
    "tup1=('hello',1,1997)\n",
    "print(tup1)"
   ]
  },
  {
   "cell_type": "code",
   "execution_count": 2,
   "id": "e1ff860e-5805-455c-9b3e-34b38f78a0d5",
   "metadata": {},
   "outputs": [
    {
     "name": "stdout",
     "output_type": "stream",
     "text": [
      "(3,)\n"
     ]
    }
   ],
   "source": [
    "tup=(3,)\n",
    "print(tup)"
   ]
  },
  {
   "cell_type": "code",
   "execution_count": 3,
   "id": "28152622-b6a8-42b7-8f19-9a699ddfcaf3",
   "metadata": {},
   "outputs": [
    {
     "name": "stdout",
     "output_type": "stream",
     "text": [
      "<class 'int'>\n"
     ]
    }
   ],
   "source": [
    "tup = (3)\n",
    "print(type(tup))"
   ]
  },
  {
   "cell_type": "code",
   "execution_count": 4,
   "id": "c4454d9a-27a5-494d-9297-a554d3b9f9d6",
   "metadata": {},
   "outputs": [
    {
     "name": "stdout",
     "output_type": "stream",
     "text": [
      "<class 'tuple'>\n"
     ]
    }
   ],
   "source": [
    "tup = (3,)\n",
    "print(type(tup))"
   ]
  },
  {
   "cell_type": "code",
   "execution_count": 5,
   "id": "a2393d01-647a-4591-b09b-c5aba69f2df4",
   "metadata": {},
   "outputs": [
    {
     "name": "stdout",
     "output_type": "stream",
     "text": [
      "()\n"
     ]
    }
   ],
   "source": [
    "tup =()\n",
    "print(tup)"
   ]
  },
  {
   "cell_type": "code",
   "execution_count": 6,
   "id": "7e75deab-58e8-4972-973c-6cadd42765ad",
   "metadata": {},
   "outputs": [
    {
     "ename": "SyntaxError",
     "evalue": "invalid syntax (2360152904.py, line 1)",
     "output_type": "error",
     "traceback": [
      "  \u001b[36mCell\u001b[39m\u001b[36m \u001b[39m\u001b[32mIn[6]\u001b[39m\u001b[32m, line 1\u001b[39m\n\u001b[31m    \u001b[39m\u001b[31mtup =(,)\u001b[39m\n          ^\n\u001b[31mSyntaxError\u001b[39m\u001b[31m:\u001b[39m invalid syntax\n"
     ]
    }
   ],
   "source": [
    "tup =(,)\n",
    "print(tup)"
   ]
  },
  {
   "cell_type": "code",
   "execution_count": 7,
   "id": "109a311b-9a6a-4179-a5a5-7d3e28298f45",
   "metadata": {},
   "outputs": [
    {
     "name": "stdout",
     "output_type": "stream",
     "text": [
      "(1, 2, 3)\n"
     ]
    }
   ],
   "source": [
    "#tuples take list as argument and makes sequence into a tuple(by usingg tuple function)\n",
    "tup=tuple([1,2,3])\n",
    "print(tup)"
   ]
  },
  {
   "cell_type": "code",
   "execution_count": 8,
   "id": "02e15426-a33e-4bd9-b276-dbeb90da81fb",
   "metadata": {},
   "outputs": [
    {
     "name": "stdout",
     "output_type": "stream",
     "text": [
      "(1, 2, 3, 4, 5, 7)\n"
     ]
    }
   ],
   "source": [
    "#add element in tuple\n",
    "t=(1,2,3,4,5)\n",
    "t=t+(7,)\n",
    "print(t)"
   ]
  },
  {
   "cell_type": "code",
   "execution_count": 10,
   "id": "82a8a335-c924-4b88-a8ba-8d42b1dd4bac",
   "metadata": {},
   "outputs": [
    {
     "name": "stdin",
     "output_type": "stream",
     "text": [
      "Enter number of employees:  2\n",
      "Enter salary of employee 1: 20000\n",
      "Enter salary of employee 2: 30000\n"
     ]
    },
    {
     "name": "stdout",
     "output_type": "stream",
     "text": [
      "Minimum salary: 20000\n",
      "Maximum salary: 30000\n"
     ]
    }
   ],
   "source": [
    "#python program to input ‘n’ employee salaries and find the minimum and maximum salary amongst ‘n’ employees.\n",
    "n = int(input(\"Enter number of employees: \"))\n",
    "salaries = []\n",
    "for i in range(n):\n",
    "    salary = 'Enter salary of employee ' + str(i+1) + ':'\n",
    "    sal=int(input(salary))\n",
    "    salaries.append(sal)\n",
    "print(\"Minimum salary:\", min(salaries))\n",
    "print(\"Maximum salary:\", max(salaries))\n"
   ]
  },
  {
   "cell_type": "code",
   "execution_count": 11,
   "id": "78f7b7d2-cc36-411a-8042-3af34dda39de",
   "metadata": {},
   "outputs": [
    {
     "data": {
      "text/plain": [
       "6"
      ]
     },
     "execution_count": 11,
     "metadata": {},
     "output_type": "execute_result"
    }
   ],
   "source": [
    "len(t)"
   ]
  },
  {
   "cell_type": "code",
   "execution_count": 12,
   "id": "3818c2d2-52c7-48f1-bb7d-baaffdb247fb",
   "metadata": {},
   "outputs": [
    {
     "name": "stdout",
     "output_type": "stream",
     "text": [
      "(1, 2, 3)\n"
     ]
    }
   ],
   "source": [
    "#list to tuple\n",
    "seq=[1,2,3]\n",
    "print(tuple(seq))"
   ]
  },
  {
   "cell_type": "code",
   "execution_count": 13,
   "id": "0771097f-612f-4c8f-b454-3c58e95ab28a",
   "metadata": {},
   "outputs": [
    {
     "data": {
      "text/plain": [
       "7"
      ]
     },
     "execution_count": 13,
     "metadata": {},
     "output_type": "execute_result"
    }
   ],
   "source": [
    "min(t)\n",
    "max(t)"
   ]
  },
  {
   "cell_type": "code",
   "execution_count": 14,
   "id": "b50f03ac-9c14-495d-ad12-cb0ea0dd7700",
   "metadata": {},
   "outputs": [
    {
     "name": "stdout",
     "output_type": "stream",
     "text": [
      "('PYTHON',)\n"
     ]
    }
   ],
   "source": [
    "t=tuple()\n",
    "t=t+('PYTHON',)\n",
    "print(t)"
   ]
  },
  {
   "cell_type": "code",
   "execution_count": 15,
   "id": "d208987e-b44a-49e4-86db-438dcc48a8fa",
   "metadata": {},
   "outputs": [
    {
     "name": "stdout",
     "output_type": "stream",
     "text": [
      "1\n"
     ]
    }
   ],
   "source": [
    "print(len(t))"
   ]
  },
  {
   "cell_type": "code",
   "execution_count": 16,
   "id": "81bcd4ea-7250-456a-a28c-12ced9678413",
   "metadata": {},
   "outputs": [
    {
     "name": "stdout",
     "output_type": "stream",
     "text": [
      "4\n"
     ]
    }
   ],
   "source": [
    "t1=(10,20,30)\n",
    "t2=t1+t\n",
    "print(len(t2))"
   ]
  },
  {
   "cell_type": "code",
   "execution_count": 17,
   "id": "4fb803ed-a958-4402-9106-2bcc5fc78443",
   "metadata": {},
   "outputs": [
    {
     "name": "stdout",
     "output_type": "stream",
     "text": [
      "(10, 20, 30, 10, 20, 30)\n"
     ]
    }
   ],
   "source": [
    "t3=t1*2\n",
    "print(t3)"
   ]
  },
  {
   "cell_type": "code",
   "execution_count": 18,
   "id": "32b69665-e7dd-4c5d-86c2-c21aac5900d7",
   "metadata": {},
   "outputs": [
    {
     "name": "stdin",
     "output_type": "stream",
     "text": [
      "Enter number of employees:  2\n",
      "Enter name of employee 1:  John\n",
      "Enter employee number of John:  1\n",
      "Enter name of employee 2:  Cena\n",
      "Enter employee number of Cena:  2\n"
     ]
    },
    {
     "name": "stdout",
     "output_type": "stream",
     "text": [
      "\n",
      "Employee Details:\n",
      "{'John': '1', 'Cena': '2'}\n"
     ]
    }
   ],
   "source": [
    "#Write a program to input ‘n’ employee numbers and names and store them in a dictionary. Display dictionaries employee’s names(key) and numbers(values) together.\n",
    "n = int(input(\"Enter number of employees: \"))\n",
    "employees = {}\n",
    "for i in range(n):\n",
    "    name = input(f\"Enter name of employee {i+1}: \")\n",
    "    number = input(f\"Enter employee number of {name}: \")\n",
    "    employees[name] = number\n",
    "print(\"\\nEmployee Details:\")\n",
    "print(employees)\n"
   ]
  },
  {
   "cell_type": "code",
   "execution_count": 19,
   "id": "f104f18e-53bc-42ac-b090-c671fbd4dede",
   "metadata": {},
   "outputs": [
    {
     "name": "stdout",
     "output_type": "stream",
     "text": [
      "\n",
      "Employee Names: dict_keys(['John', 'Cena'])\n",
      "Employee Numbers: dict_values(['1', '2'])\n"
     ]
    }
   ],
   "source": [
    "print(\"\\nEmployee Names:\",(employees.keys()))\n",
    "print(\"Employee Numbers:\",(employees.values()))"
   ]
  },
  {
   "cell_type": "code",
   "execution_count": null,
   "id": "336781b0-f828-4ea9-8033-bed338244451",
   "metadata": {},
   "outputs": [],
   "source": []
  }
 ],
 "metadata": {
  "kernelspec": {
   "display_name": "Python 3 (ipykernel)",
   "language": "python",
   "name": "python3"
  },
  "language_info": {
   "codemirror_mode": {
    "name": "ipython",
    "version": 3
   },
   "file_extension": ".py",
   "mimetype": "text/x-python",
   "name": "python",
   "nbconvert_exporter": "python",
   "pygments_lexer": "ipython3",
   "version": "3.11.9"
  }
 },
 "nbformat": 4,
 "nbformat_minor": 5
}
