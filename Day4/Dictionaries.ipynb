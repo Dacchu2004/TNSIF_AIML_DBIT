{
 "cells": [
  {
   "cell_type": "code",
   "execution_count": 1,
   "id": "dde27010-825b-4ef7-8960-02200cb8e745",
   "metadata": {},
   "outputs": [
    {
     "name": "stdout",
     "output_type": "stream",
     "text": [
      "{'Harry': 8796543908, 'Sima': 9888765490, 'Rita': 6779765312}\n"
     ]
    },
    {
     "name": "stdin",
     "output_type": "stream",
     "text": [
      "Enter the name to be modified Rita\n",
      "Enter modified number 12345645757\n"
     ]
    },
    {
     "name": "stdout",
     "output_type": "stream",
     "text": [
      "Modified successfully\n",
      "{'Harry': 8796543908, 'Sima': 9888765490, 'Rita': '12345645757'}\n"
     ]
    }
   ],
   "source": [
    "#update existing phonenumber dictionary\n",
    "phonebook={\"Harry\":8796543908,\"Sima\":9888765490,\"Rita\":6779765312}\n",
    "print(phonebook)\n",
    "name=input(\"Enter the name to be modified\")\n",
    "if name in phonebook:\n",
    "    newnum=input(\"Enter modified number\")\n",
    "    phonebook[name] = newnum\n",
    "    print(\"Modified successfully\")\n",
    "    print(phonebook)\n",
    "else:\n",
    "    print(name, \"was not found.\")"
   ]
  },
  {
   "cell_type": "code",
   "execution_count": 2,
   "id": "9097f153-f301-4f9a-9341-598ad99a202e",
   "metadata": {},
   "outputs": [
    {
     "name": "stdout",
     "output_type": "stream",
     "text": [
      "{'Harry': 8796543908, 'Sima': 9888765490, 'Rita': 6779765312}\n",
      "{'Harry': 9807646889, 'Sima': 9888765490, 'Rita': 6779765312}\n",
      "{'Harry': 9807646889, 'Sima': 9888765490, 'Rita': 6779765312, 'Amir': 8976543210}\n"
     ]
    }
   ],
   "source": [
    "#Add Amir and his nuumber..Key value pair to be added\n",
    "phonebook={\"Harry\":8796543908,\"Sima\":9888765490,\"Rita\":6779765312}\n",
    "print(phonebook)\n",
    "phonebook[\"Harry\"]=9807646889\n",
    "print(phonebook)\n",
    "phonebook.update({\"Amir\":8976543210})\n",
    "print(phonebook)"
   ]
  },
  {
   "cell_type": "code",
   "execution_count": 3,
   "id": "53a181e5-93ae-475d-b4b0-5bf295cb6689",
   "metadata": {},
   "outputs": [
    {
     "name": "stdout",
     "output_type": "stream",
     "text": [
      "{'Harry': 8796543908, 'Sima': 9888765490, 'Rita': 6779765312}\n"
     ]
    },
    {
     "name": "stdin",
     "output_type": "stream",
     "text": [
      "Enter the name to be modified Sima\n"
     ]
    },
    {
     "name": "stdout",
     "output_type": "stream",
     "text": [
      "Deleted successfully\n",
      "{'Harry': 8796543908, 'Rita': 6779765312}\n"
     ]
    }
   ],
   "source": [
    "#Deleting Key value pair\n",
    "phonebook={\"Harry\":8796543908,\"Sima\":9888765490,\"Rita\":6779765312}\n",
    "print(phonebook)\n",
    "name=input(\"Enter the name to be modified\")\n",
    "if name in phonebook:\n",
    "    del phonebook[name]\n",
    "    print(\"Deleted successfully\")\n",
    "    print(phonebook)\n",
    "else:\n",
    "    print(name, \"was not found\")\n"
   ]
  },
  {
   "cell_type": "code",
   "execution_count": null,
   "id": "f7b85594-6d8c-4c22-99d4-4f1dc9602148",
   "metadata": {},
   "outputs": [],
   "source": [
    "#Trying to delete whole dictionary\n",
    "phonebook={\"Harry\":8796543908,\"Sima\":9888765490,\"Rita\":6779765312}\n",
    "print(phonebook)\n",
    "del phonebook\n",
    "print(phonebook)"
   ]
  },
  {
   "cell_type": "code",
   "execution_count": null,
   "id": "3464d7de-115f-4633-8b73-957ab1c56f56",
   "metadata": {},
   "outputs": [],
   "source": [
    "len(phonebook)"
   ]
  },
  {
   "cell_type": "code",
   "execution_count": 4,
   "id": "ec88988a-9b0e-4b47-985e-b46448f31dc2",
   "metadata": {},
   "outputs": [
    {
     "name": "stdout",
     "output_type": "stream",
     "text": [
      "{'Harry': 8796543908, 'Sima': 9888765490, 'Rita': 6779765312}\n"
     ]
    }
   ],
   "source": [
    "phonebook={\"Harry\":8796543908,\"Sima\":9888765490,\"Rita\":6779765312}\n",
    "print(phonebook)"
   ]
  },
  {
   "cell_type": "code",
   "execution_count": 5,
   "id": "1116bd39-519a-4da9-b346-49884f323ce5",
   "metadata": {},
   "outputs": [
    {
     "data": {
      "text/plain": [
       "3"
      ]
     },
     "execution_count": 5,
     "metadata": {},
     "output_type": "execute_result"
    }
   ],
   "source": [
    "len(phonebook)"
   ]
  },
  {
   "cell_type": "code",
   "execution_count": 6,
   "id": "51a89753-2fe4-49f8-a90d-a963ea426028",
   "metadata": {},
   "outputs": [
    {
     "data": {
      "text/plain": [
       "\"{'Harry': 8796543908, 'Sima': 9888765490, 'Rita': 6779765312}\""
      ]
     },
     "execution_count": 6,
     "metadata": {},
     "output_type": "execute_result"
    }
   ],
   "source": [
    "str(phonebook)"
   ]
  },
  {
   "cell_type": "code",
   "execution_count": 7,
   "id": "4af5e413-2a4e-447b-9d1f-5b3d9fd6538b",
   "metadata": {},
   "outputs": [
    {
     "name": "stdout",
     "output_type": "stream",
     "text": [
      "{}\n"
     ]
    }
   ],
   "source": [
    "phonebook.clear()\n",
    "print(phonebook)"
   ]
  },
  {
   "cell_type": "code",
   "execution_count": 8,
   "id": "a89fdcdf-3701-4ccf-b379-b36a7f22d19f",
   "metadata": {},
   "outputs": [
    {
     "name": "stdout",
     "output_type": "stream",
     "text": [
      "{'Harry': 8796543908, 'Sima': 9888765490, 'Rita': 6779765312}\n"
     ]
    }
   ],
   "source": [
    "phonebook={\"Harry\":8796543908,\"Sima\":9888765490,\"Rita\":6779765312}\n",
    "print(phonebook)"
   ]
  },
  {
   "cell_type": "code",
   "execution_count": 9,
   "id": "df64d8ff-21f0-415a-9520-2d33459aa8c3",
   "metadata": {},
   "outputs": [
    {
     "data": {
      "text/plain": [
       "dict_keys(['Harry', 'Sima', 'Rita'])"
      ]
     },
     "execution_count": 9,
     "metadata": {},
     "output_type": "execute_result"
    }
   ],
   "source": [
    "phonebook.keys()"
   ]
  },
  {
   "cell_type": "code",
   "execution_count": 10,
   "id": "732d7868-65b7-4aaa-838e-30c880d3229c",
   "metadata": {},
   "outputs": [
    {
     "data": {
      "text/plain": [
       "dict_values([8796543908, 9888765490, 6779765312])"
      ]
     },
     "execution_count": 10,
     "metadata": {},
     "output_type": "execute_result"
    }
   ],
   "source": [
    "phonebook.values()"
   ]
  },
  {
   "cell_type": "code",
   "execution_count": null,
   "id": "b5376b7a-4793-4a72-9aa2-44ee028f3173",
   "metadata": {},
   "outputs": [],
   "source": []
  }
 ],
 "metadata": {
  "kernelspec": {
   "display_name": "Python 3 (ipykernel)",
   "language": "python",
   "name": "python3"
  },
  "language_info": {
   "codemirror_mode": {
    "name": "ipython",
    "version": 3
   },
   "file_extension": ".py",
   "mimetype": "text/x-python",
   "name": "python",
   "nbconvert_exporter": "python",
   "pygments_lexer": "ipython3",
   "version": "3.11.9"
  }
 },
 "nbformat": 4,
 "nbformat_minor": 5
}
